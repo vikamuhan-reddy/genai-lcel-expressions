{
 "cells": [
  {
   "cell_type": "code",
   "execution_count": 7,
   "id": "362279fb",
   "metadata": {
    "height": 540
   },
   "outputs": [
    {
     "name": "stdout",
     "output_type": "stream",
     "text": [
      "The watch allows you to track your heart rate, sleep, and steps. It is water-resistant up to 50 meters, making it suitable for swimming and other water activities. The battery lasts up to 7 days on a single charge, providing long-lasting use without frequent recharging.\n"
     ]
    }
   ],
   "source": [
    "from langchain.embeddings import OpenAIEmbeddings\n",
    "from langchain.vectorstores import DocArrayInMemorySearch\n",
    "from langchain.prompts import ChatPromptTemplate\n",
    "from langchain.chat_models import ChatOpenAI\n",
    "from langchain.schema.runnable import RunnableMap\n",
    "from langchain.schema.output_parser import StrOutputParser\n",
    "\n",
    "faq_texts = [\n",
    "    \"The smartwatch battery lasts up to 7 days on a single charge.\",\n",
    "    \"You can track your heart rate, sleep, and steps with the watch.\",\n",
    "    \"The smartwatch is water-resistant up to 50 meters.\"\n",
    "]\n",
    "embedding = OpenAIEmbeddings()\n",
    "vectorstore = DocArrayInMemorySearch.from_texts(faq_texts, embedding=embedding)\n",
    "retriever = vectorstore.as_retriever()\n",
    "template = \"\"\"You are a helpful assistant answering questions based only on the following product FAQs:\n",
    "{context}\n",
    "Customer Question: {question}\n",
    "\"\"\"\n",
    "prompt = ChatPromptTemplate.from_template(template)\n",
    "model = ChatOpenAI(model=\"gpt-3.5-turbo\", temperature=0)\n",
    "output_parser = StrOutputParser()\n",
    "chain = (\n",
    "    RunnableMap({\n",
    "        \"context\": lambda x: retriever.get_relevant_documents(x[\"question\"]),\n",
    "        \"question\": lambda x: x[\"question\"]\n",
    "    })| prompt| model| output_parser)\n",
    "\n",
    "response = chain.invoke({\"question\": \"Explain the features of the watch?\"})\n",
    "print(response)\n"
   ]
  },
  {
   "cell_type": "code",
   "execution_count": null,
   "id": "610d8c8f",
   "metadata": {
    "height": 30
   },
   "outputs": [],
   "source": []
  }
 ],
 "metadata": {
  "kernelspec": {
   "display_name": "Python 3 (ipykernel)",
   "language": "python",
   "name": "python3"
  },
  "language_info": {
   "codemirror_mode": {
    "name": "ipython",
    "version": 3
   },
   "file_extension": ".py",
   "mimetype": "text/x-python",
   "name": "python",
   "nbconvert_exporter": "python",
   "pygments_lexer": "ipython3",
   "version": "3.9.19"
  }
 },
 "nbformat": 4,
 "nbformat_minor": 5
}
